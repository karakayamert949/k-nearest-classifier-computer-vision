{
 "cells": [
  {
   "cell_type": "code",
   "execution_count": 2,
   "metadata": {},
   "outputs": [],
   "source": [
    "# data preparation and loading\n",
    "# get data from pickle file\n",
    "import numpy as np\n",
    "\n",
    "\n",
    "def unpickle(file):\n",
    "    import pickle\n",
    "    with open(file, \"rb\") as fo:\n",
    "        dict = pickle.load(fo, encoding=\"bytes\")\n",
    "    return dict\n",
    "\n",
    "\n",
    "# get train data 1-6 append them to a list\n",
    "temp_xTrain = []\n",
    "temp_yTrain = []\n",
    "for i in range(1, 6):\n",
    "    data = unpickle(\n",
    "        r\"C:\\Users\\mert\\Desktop\\yazılımlar\\python\\computer vision\\cs231n\\cifar-10-batches-py\\data_batch_\"+str(i))\n",
    "    temp_xTrain.append(data[b'data'])\n",
    "    temp_yTrain.append(data[b'labels'])\n",
    "\n",
    "# make one list from the list of lists train data is now ready\n",
    "temp_xTrain = np.concatenate(temp_xTrain)\n",
    "temp_yTrain = np.concatenate(temp_yTrain)\n",
    "\n",
    "xValidation = temp_xTrain[:500]\n",
    "yValidation = temp_yTrain[:500]\n",
    "xTrain = temp_xTrain[500:]\n",
    "yTrain = temp_yTrain[500:]\n",
    "\n",
    "\n",
    "# get test data\n",
    "data = unpickle(\n",
    "    r\"C:\\Users\\mert\\Desktop\\yazılımlar\\python\\computer vision\\cs231n\\cifar-10-batches-py\\test_batch\")\n",
    "xTest = (data[b'data'])\n",
    "yTest = (data[b'labels'])\n"
   ]
  },
  {
   "cell_type": "code",
   "execution_count": 3,
   "metadata": {},
   "outputs": [],
   "source": [
    "class NearestNeighbor:\n",
    "    def train(self, XTrain, YTrain):\n",
    "        self.XTrain = XTrain\n",
    "        self.YTrain = YTrain\n",
    "\n",
    "    def predict(self, XTest, k=1):\n",
    "        num_test = XTest.shape[0]\n",
    "        YPrediction = np.zeros(num_test, dtype=self.YTrain.dtype)\n",
    "        for i in range(num_test):\n",
    "            distances = np.sum(abs(XTest[i, :] - self.XTrain), axis=1)\n",
    "            # All elements smaller than the kth element are before moved before this element(think position)\n",
    "            minDistances = np.partition(distances, k-1)[:k]\n",
    "\n",
    "            minIndices = []\n",
    "            for dist in minDistances:\n",
    "                minIndices.append(np.where(distances == dist)[0][0])\n",
    "\n",
    "            trainList = []\n",
    "            for id in minIndices:\n",
    "                trainList.append(self.YTrain[id])\n",
    "\n",
    "            YPrediction[i] = max(trainList, key=trainList.count)\n",
    "\n",
    "        return YPrediction\n"
   ]
  },
  {
   "cell_type": "code",
   "execution_count": 4,
   "metadata": {},
   "outputs": [
    {
     "ename": "KeyboardInterrupt",
     "evalue": "",
     "output_type": "error",
     "traceback": [
      "\u001b[1;31m---------------------------------------------------------------------------\u001b[0m",
      "\u001b[1;31mKeyboardInterrupt\u001b[0m                         Traceback (most recent call last)",
      "\u001b[1;32mc:\\Users\\mert\\Desktop\\yazılımlar\\python\\computer vision\\cs231n\\k-nearest-neighbor.ipynb Hücre 3\u001b[0m in \u001b[0;36m<cell line: 7>\u001b[1;34m()\u001b[0m\n\u001b[0;32m      <a href='vscode-notebook-cell:/c%3A/Users/mert/Desktop/yaz%C4%B1l%C4%B1mlar/python/computer%20vision/cs231n/k-nearest-neighbor.ipynb#W2sZmlsZQ%3D%3D?line=5'>6</a>\u001b[0m nn\u001b[39m.\u001b[39mtrain(xTrain, yTrain)\n\u001b[0;32m      <a href='vscode-notebook-cell:/c%3A/Users/mert/Desktop/yaz%C4%B1l%C4%B1mlar/python/computer%20vision/cs231n/k-nearest-neighbor.ipynb#W2sZmlsZQ%3D%3D?line=6'>7</a>\u001b[0m \u001b[39mfor\u001b[39;00m k \u001b[39min\u001b[39;00m k_list:\n\u001b[0;32m      <a href='vscode-notebook-cell:/c%3A/Users/mert/Desktop/yaz%C4%B1l%C4%B1mlar/python/computer%20vision/cs231n/k-nearest-neighbor.ipynb#W2sZmlsZQ%3D%3D?line=7'>8</a>\u001b[0m     \u001b[39m# use a particular value of k and evaluation on validation data\u001b[39;00m\n\u001b[1;32m----> <a href='vscode-notebook-cell:/c%3A/Users/mert/Desktop/yaz%C4%B1l%C4%B1mlar/python/computer%20vision/cs231n/k-nearest-neighbor.ipynb#W2sZmlsZQ%3D%3D?line=8'>9</a>\u001b[0m     yPredict \u001b[39m=\u001b[39m nn\u001b[39m.\u001b[39;49mpredict(xValidation, k)\n\u001b[0;32m     <a href='vscode-notebook-cell:/c%3A/Users/mert/Desktop/yaz%C4%B1l%C4%B1mlar/python/computer%20vision/cs231n/k-nearest-neighbor.ipynb#W2sZmlsZQ%3D%3D?line=9'>10</a>\u001b[0m     acc \u001b[39m=\u001b[39m np\u001b[39m.\u001b[39mmean(yPredict \u001b[39m==\u001b[39m yValidation)\n\u001b[0;32m     <a href='vscode-notebook-cell:/c%3A/Users/mert/Desktop/yaz%C4%B1l%C4%B1mlar/python/computer%20vision/cs231n/k-nearest-neighbor.ipynb#W2sZmlsZQ%3D%3D?line=10'>11</a>\u001b[0m     \u001b[39mprint\u001b[39m(\u001b[39mf\u001b[39m\u001b[39m'\u001b[39m\u001b[39maccuracy: \u001b[39m\u001b[39m{\u001b[39;00macc\u001b[39m}\u001b[39;00m\u001b[39m at k=\u001b[39m\u001b[39m{\u001b[39;00mk\u001b[39m}\u001b[39;00m\u001b[39m'\u001b[39m)\n",
      "\u001b[1;32mc:\\Users\\mert\\Desktop\\yazılımlar\\python\\computer vision\\cs231n\\k-nearest-neighbor.ipynb Hücre 3\u001b[0m in \u001b[0;36mNearestNeighbor.predict\u001b[1;34m(self, XTest, k)\u001b[0m\n\u001b[0;32m      <a href='vscode-notebook-cell:/c%3A/Users/mert/Desktop/yaz%C4%B1l%C4%B1mlar/python/computer%20vision/cs231n/k-nearest-neighbor.ipynb#W2sZmlsZQ%3D%3D?line=7'>8</a>\u001b[0m YPrediction \u001b[39m=\u001b[39m np\u001b[39m.\u001b[39mzeros(num_test, dtype\u001b[39m=\u001b[39m\u001b[39mself\u001b[39m\u001b[39m.\u001b[39mYTrain\u001b[39m.\u001b[39mdtype)\n\u001b[0;32m      <a href='vscode-notebook-cell:/c%3A/Users/mert/Desktop/yaz%C4%B1l%C4%B1mlar/python/computer%20vision/cs231n/k-nearest-neighbor.ipynb#W2sZmlsZQ%3D%3D?line=8'>9</a>\u001b[0m \u001b[39mfor\u001b[39;00m i \u001b[39min\u001b[39;00m \u001b[39mrange\u001b[39m(num_test):\n\u001b[1;32m---> <a href='vscode-notebook-cell:/c%3A/Users/mert/Desktop/yaz%C4%B1l%C4%B1mlar/python/computer%20vision/cs231n/k-nearest-neighbor.ipynb#W2sZmlsZQ%3D%3D?line=9'>10</a>\u001b[0m     distances \u001b[39m=\u001b[39m np\u001b[39m.\u001b[39msum(\u001b[39mabs\u001b[39;49m(XTest[i, :] \u001b[39m-\u001b[39;49m \u001b[39mself\u001b[39;49m\u001b[39m.\u001b[39;49mXTrain), axis\u001b[39m=\u001b[39m\u001b[39m1\u001b[39m)\n\u001b[0;32m     <a href='vscode-notebook-cell:/c%3A/Users/mert/Desktop/yaz%C4%B1l%C4%B1mlar/python/computer%20vision/cs231n/k-nearest-neighbor.ipynb#W2sZmlsZQ%3D%3D?line=10'>11</a>\u001b[0m     \u001b[39m# All elements smaller than the kth element are before moved before this element(think position)\u001b[39;00m\n\u001b[0;32m     <a href='vscode-notebook-cell:/c%3A/Users/mert/Desktop/yaz%C4%B1l%C4%B1mlar/python/computer%20vision/cs231n/k-nearest-neighbor.ipynb#W2sZmlsZQ%3D%3D?line=11'>12</a>\u001b[0m     minDistances \u001b[39m=\u001b[39m np\u001b[39m.\u001b[39mpartition(distances, k\u001b[39m-\u001b[39m\u001b[39m1\u001b[39m)[:k]\n",
      "\u001b[1;31mKeyboardInterrupt\u001b[0m: "
     ]
    }
   ],
   "source": [
    "import matplotlib.pyplot as plt\n",
    "\n",
    "k_list=[1, 5, 10, 25, 50, 100]\n",
    "validation_accuracies = []\n",
    "nn = NearestNeighbor()\n",
    "nn.train(xTrain, yTrain)\n",
    "for k in k_list:\n",
    "    # use a particular value of k and evaluation on validation data\n",
    "    yPredict = nn.predict(xValidation, k)\n",
    "    acc = np.mean(yPredict == yValidation)\n",
    "    print(f'accuracy: {acc} at k={k}')\n",
    "    # keep track of what works on the validation set\n",
    "    validation_accuracies.append((k, acc))\n",
    "\n",
    "plt.figure(figsize=(10,10))\n",
    "plt.plot(k_list,[y for x,y in validation_accuracies])\n",
    "plt.xlabel(\"k neighbor\",fontsize=20)\n",
    "plt.ylabel(\"accuracy\",fontsize=20)\n",
    "plt.title(\"k-nearest-neighbor\",fontsize=30)\n",
    "print(validation_accuracies)\n"
   ]
  },
  {
   "cell_type": "markdown",
   "metadata": {},
   "source": [
    "accuracy: 0.272 at k=1\n",
    "\n",
    "accuracy: 0.284 at k=5\n",
    "\n",
    "accuracy: 0.306 at k=10\n",
    "\n",
    "accuracy: 0.284 at k=25\n",
    "\n",
    "accuracy: 0.3 at k=50\n",
    "\n",
    "accuracy: 0.278 at k=100"
   ]
  },
  {
   "cell_type": "code",
   "execution_count": 5,
   "metadata": {},
   "outputs": [
    {
     "name": "stdout",
     "output_type": "stream",
     "text": [
      "accuracy: 0.279 at k=1\n"
     ]
    }
   ],
   "source": [
    "k=1\n",
    "\n",
    "nn = NearestNeighbor()\n",
    "nn.train(xTrain, yTrain)\n",
    "\n",
    "yPredict = nn.predict(xTest[:1000], k)\n",
    "acc = np.mean(yPredict == yTest[:1000])\n",
    "print(f'accuracy: {acc} at k={k}')\n",
    "# keep track of what works on the validation set"
   ]
  },
  {
   "cell_type": "markdown",
   "metadata": {},
   "source": [
    "accuracy: 0.291 at k=10"
   ]
  }
 ],
 "metadata": {
  "kernelspec": {
   "display_name": "Python 3.10.6 64-bit",
   "language": "python",
   "name": "python3"
  },
  "language_info": {
   "codemirror_mode": {
    "name": "ipython",
    "version": 3
   },
   "file_extension": ".py",
   "mimetype": "text/x-python",
   "name": "python",
   "nbconvert_exporter": "python",
   "pygments_lexer": "ipython3",
   "version": "3.10.6"
  },
  "orig_nbformat": 4,
  "vscode": {
   "interpreter": {
    "hash": "19f8f9ebccd493d1979261b88c51ecd06bf2efdee26e5f5e5ddb3d1c8ea2e26f"
   }
  }
 },
 "nbformat": 4,
 "nbformat_minor": 2
}
